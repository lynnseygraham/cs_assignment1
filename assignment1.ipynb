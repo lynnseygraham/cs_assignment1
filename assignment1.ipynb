{
  "nbformat": 4,
  "nbformat_minor": 0,
  "metadata": {
    "colab": {
      "name": "assignment1.ipynb",
      "provenance": [],
      "collapsed_sections": [],
      "authorship_tag": "ABX9TyN4AQd5p39GLMQdD33IsVX7",
      "include_colab_link": true
    },
    "kernelspec": {
      "name": "python3",
      "display_name": "Python 3"
    }
  },
  "cells": [
    {
      "cell_type": "markdown",
      "metadata": {
        "id": "view-in-github",
        "colab_type": "text"
      },
      "source": [
        "<a href=\"https://colab.research.google.com/github/lynnseygraham/cs_assignment1/blob/master/assignment1.ipynb\" target=\"_parent\"><img src=\"https://colab.research.google.com/assets/colab-badge.svg\" alt=\"Open In Colab\"/></a>"
      ]
    },
    {
      "cell_type": "code",
      "metadata": {
        "id": "AYRVR9wCUKAS",
        "outputId": "7d139b5f-0e13-4261-ed0d-b45d0b7e30ba",
        "colab": {
          "base_uri": "https://localhost:8080/",
          "height": 85
        }
      },
      "source": [
        "!pip install cryptography\n",
        "import random\n",
        "from sympy.ntheory.modular import solve_congruence\n",
        "from itertools import compress\n",
        "import math\n",
        "import os\n",
        "from cryptography.hazmat.primitives.ciphers import Cipher, algorithms, modes\n",
        "from cryptography.hazmat.primitives import padding"
      ],
      "execution_count": 279,
      "outputs": [
        {
          "output_type": "stream",
          "text": [
            "Requirement already satisfied: cryptography in /usr/local/lib/python3.6/dist-packages (3.1.1)\n",
            "Requirement already satisfied: six>=1.4.1 in /usr/local/lib/python3.6/dist-packages (from cryptography) (1.15.0)\n",
            "Requirement already satisfied: cffi!=1.11.3,>=1.8 in /usr/local/lib/python3.6/dist-packages (from cryptography) (1.14.3)\n",
            "Requirement already satisfied: pycparser in /usr/local/lib/python3.6/dist-packages (from cffi!=1.11.3,>=1.8->cryptography) (2.20)\n"
          ],
          "name": "stdout"
        }
      ]
    },
    {
      "cell_type": "code",
      "metadata": {
        "id": "mYKeqjth7vjJ"
      },
      "source": [
        "def lgn_mr(n):\n",
        "  print('n given: ', n)\n",
        "  \n",
        "  #Check if n is an even number but != 2(prime)\n",
        "  if n % 2 == 0:\n",
        "    if n == 2:\n",
        "      return \"prime\"\n",
        "    else:\n",
        "      return \"composite\"\n",
        "  \n",
        "  #Find n-1 = 2^k * q\n",
        "  #Find k and q\n",
        "  k = 1\n",
        "  q = 0.0\n",
        "  q_test = 0.0\n",
        "  while isinstance(q, float):\n",
        "    q_test = (n-1)/(2**k)\n",
        "    if q_test.is_integer():\n",
        "      q = q_test\n",
        "      k += 1\n",
        "    else:\n",
        "      k -= 1\n",
        "      q = int(q) \n",
        "      print('k=',k,' q=',q,' n-1=',n-1) #,' 2**k: ',2**k,' = ',n-1/2**k)\n",
        "\n",
        "  for i in range(k):\n",
        "    #Choose a ( 1 < a < n-1 )\n",
        "    a = random.randrange(2, n-1)\n",
        "    #Find x = a^q*n\n",
        "    x = pow(a, q, n)\n",
        "    print('x=', x)\n",
        "    #if x == n-1 or x == 1:\n",
        "      #continue\n",
        "    for j in range(k):\n",
        "      x = pow(x, 2, n)\n",
        "      print('x=', x)\n",
        "      if x == 1:\n",
        "        return \"likely prime\"\n",
        "    else:\n",
        "      return \"composite\"\n",
        "  #return \"likely prime\"\n",
        "\n"
      ],
      "execution_count": 309,
      "outputs": []
    },
    {
      "cell_type": "code",
      "metadata": {
        "id": "Oh3gKmVVH1iZ"
      },
      "source": [
        "def isPrime(num):\n",
        "  if num > 1:\n",
        "    for i in range(2, num):\n",
        "      if (num % i ) == 0:\n",
        "        return False\n",
        "      else:\n",
        "        return True\n",
        "  else:\n",
        "    return False\n",
        "\n",
        "\n",
        "#mr(n, [2,3])\n",
        "#lgn_mr(75497)"
      ],
      "execution_count": 303,
      "outputs": []
    },
    {
      "cell_type": "code",
      "metadata": {
        "id": "DdMFfOtomYlu",
        "outputId": "377fa3e8-6f19-4d4c-84f7-fda4ed3c3125",
        "colab": {
          "base_uri": "https://localhost:8080/",
          "height": 103
        }
      },
      "source": [
        "primes = [i for i in range(3,1000) if isPrime(i)]\n",
        "n = random.choice(primes)\n",
        "n\n",
        "lgn_mr(n)\n",
        " "
      ],
      "execution_count": 314,
      "outputs": [
        {
          "output_type": "stream",
          "text": [
            "n given:  231\n",
            "k= 1  q= 115  n-1= 230\n",
            "x= 43\n",
            "x= 1\n"
          ],
          "name": "stdout"
        },
        {
          "output_type": "execute_result",
          "data": {
            "application/vnd.google.colaboratory.intrinsic+json": {
              "type": "string"
            },
            "text/plain": [
              "'likely prime'"
            ]
          },
          "metadata": {
            "tags": []
          },
          "execution_count": 314
        }
      ]
    },
    {
      "cell_type": "code",
      "metadata": {
        "id": "J1wOlw8gncup",
        "outputId": "b7171c42-c418-4ccf-a226-20679ef86570",
        "colab": {
          "base_uri": "https://localhost:8080/",
          "height": 103
        }
      },
      "source": [
        "lgn_mr(231)"
      ],
      "execution_count": 316,
      "outputs": [
        {
          "output_type": "stream",
          "text": [
            "n given:  231\n",
            "k= 1  q= 115  n-1= 230\n",
            "x= 166\n",
            "x= 67\n"
          ],
          "name": "stdout"
        },
        {
          "output_type": "execute_result",
          "data": {
            "application/vnd.google.colaboratory.intrinsic+json": {
              "type": "string"
            },
            "text/plain": [
              "'composite'"
            ]
          },
          "metadata": {
            "tags": []
          },
          "execution_count": 316
        }
      ]
    },
    {
      "cell_type": "code",
      "metadata": {
        "id": "d833sTdXZbhz",
        "outputId": "ede32a3d-b914-4876-bcce-8fe593c5b932",
        "colab": {
          "base_uri": "https://localhost:8080/",
          "height": 34
        }
      },
      "source": [
        "from sympy.ntheory.primetest import mr\n",
        "mr(75797, [2,3])"
      ],
      "execution_count": 301,
      "outputs": [
        {
          "output_type": "execute_result",
          "data": {
            "text/plain": [
              "True"
            ]
          },
          "metadata": {
            "tags": []
          },
          "execution_count": 301
        }
      ]
    },
    {
      "cell_type": "code",
      "metadata": {
        "id": "raMRAqbRQPVd"
      },
      "source": [
        "def prep_args():\n",
        "  print(\"args prep will go here...\")"
      ],
      "execution_count": 166,
      "outputs": []
    },
    {
      "cell_type": "code",
      "metadata": {
        "id": "dUtMfiYEamXZ"
      },
      "source": [
        "def lgn_crt(*args):\n",
        "  #Assign array of arguments provided to appropriate variables\n",
        "  a, b, c, r, s, t = compress(args, (1,1,1,1,1,1))\n",
        "  print(\"Residuals provided: \\na=\",a,\"\\nb=\",b,\"\\nc=\",c)\n",
        "  print(\"Coprime moduli provided: \\nr=\",r,\"\\ns=\",s,\"\\nt=\",t,\"\\n\")\n",
        "  \n",
        "  #Ensure a, b, and c are positive\n",
        "  if a < 1 or b < 1 or c < 1:\n",
        "    return \"Error: Please enter an array of three positive integers.\"\n",
        "\n",
        "  #Ensure r, s, and t are coprime\n",
        "  gcd = math.gcd\n",
        "  if gcd(r,s) != 1 or gcd(s,t) != 1 or gcd(r,t) != 1:\n",
        "    return \"Error: Please enter an array of three pairwise relatively prime positive integers.\"\n",
        "\n",
        "  #Use Sympy's solve_congruence() function to find X\n",
        "  x_crt = solve_congruence(*zip([3,1,6],[5,7,8]))\n",
        "  X = x_crt[0]\n",
        "  print(\"The value of X is: \", X)\n",
        " \n",
        "  "
      ],
      "execution_count": 169,
      "outputs": []
    },
    {
      "cell_type": "code",
      "metadata": {
        "id": "alpCWAsofeSu",
        "outputId": "b4cbc089-08e0-4a6c-a16d-af575ff535ea",
        "colab": {
          "base_uri": "https://localhost:8080/",
          "height": 187
        }
      },
      "source": [
        "lgn_crt(3,1,6,5,7,8)"
      ],
      "execution_count": 170,
      "outputs": [
        {
          "output_type": "stream",
          "text": [
            "Residuals provided: \n",
            "a= 3 \n",
            "b= 1 \n",
            "c= 6\n",
            "Coprime moduli provided: \n",
            "r= 5 \n",
            "s= 7 \n",
            "t= 8 \n",
            "\n",
            "The value of X is:  78\n"
          ],
          "name": "stdout"
        }
      ]
    },
    {
      "cell_type": "code",
      "metadata": {
        "id": "Tb1ixh-3RGTU"
      },
      "source": [
        "#AES function code borrowed from: \n",
        "#https://cryptography.io/en/latest/hazmat/primitives/symmetric-encryption/\n",
        "#Padding function code borrowed from:\n",
        "#https://cryptography.io/en/latest/hazmat/primitives/padding/\n",
        "\n",
        "def lgn_aes(plaintext):\n",
        "\n",
        "  print(\"The plaintext you provided: \\n\"+plaintext,\"\\n\")\n",
        "\n",
        "  key = os.urandom(32)\n",
        "  iv = os.urandom(16)\n",
        "  cipher = Cipher(algorithms.AES(key), modes.CBC(iv))\n",
        "  encrypt = cipher.encryptor()\n",
        "  decrypt = cipher.decryptor()\n",
        "\n",
        "  \n",
        "  pt = bytes(plaintext, 'ascii')\n",
        "  padder = padding.PKCS7(128).padder()\n",
        "  padded_pt = padder.update(pt) + padder.finalize()\n",
        "\n",
        "  ct = encrypt.update(padded_pt) + encrypt.finalize()\n",
        "  print(\"Ciphertext: \", ct)\n",
        "\n",
        "  pt = decrypt.update(ct) + decrypt.finalize()\n",
        "  pt =  str(pt, 'utf-8')\n",
        "\n",
        "  unpadder = padding.PKCS7(128).unpadder()\n",
        "\n",
        "  print(\"\\nPlaintext: \", pt, \"\\nKey: \", key)\n"
      ],
      "execution_count": 284,
      "outputs": []
    },
    {
      "cell_type": "code",
      "metadata": {
        "id": "RfejRaswSeI3",
        "outputId": "df43bf7a-4a9d-4c1f-dc85-0cfe12ad3664",
        "colab": {
          "base_uri": "https://localhost:8080/",
          "height": 156
        }
      },
      "source": [
        "lgn_aes(\"This string can be not you want it to be.\")"
      ],
      "execution_count": 285,
      "outputs": [
        {
          "output_type": "stream",
          "text": [
            "The plaintext you provided: \n",
            "This string can be not you want it to be. \n",
            "\n",
            "Ciphertext:  b']\\xbf&T\\xd2\\x16\\xf4\\xdb\\xeb\\x18\\xea\\x87aoAR\\xdb\\xc2\\x955\\xf6z2\\x8dUj\\xed\\x0f\\xa9\\xacKw\\x0cq&\\x0b\\x88\\x88A\\xc5\\x1f\\x9b\\xaf\\xc4\\xf4\\xeb1k'\n",
            "\n",
            "Plaintext:  This string can be not you want it to be.\u0007\u0007\u0007\u0007\u0007\u0007\u0007 \n",
            "Key:  b'J\"\\xb9w\\x95$\\xec\\xca\\x9d\\xc4\\xfe\\x0b\\xc7f\\xdf\\xf6\\xe8:7\\xe13\\xb9\\xb4\\xbe2\\xe5\\x00\\xb8\\x93\\xc7\\xf9\\xbf'\n"
          ],
          "name": "stdout"
        }
      ]
    }
  ]
}