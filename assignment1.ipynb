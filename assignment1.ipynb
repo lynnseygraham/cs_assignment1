{
  "nbformat": 4,
  "nbformat_minor": 0,
  "metadata": {
    "colab": {
      "name": "assignment1.ipynb",
      "provenance": [],
      "collapsed_sections": [],
      "authorship_tag": "ABX9TyOVKuO1RR6s4DJwV7Nshjin",
      "include_colab_link": true
    },
    "kernelspec": {
      "name": "python3",
      "display_name": "Python 3"
    }
  },
  "cells": [
    {
      "cell_type": "markdown",
      "metadata": {
        "id": "view-in-github",
        "colab_type": "text"
      },
      "source": [
        "<a href=\"https://colab.research.google.com/github/lynnseygraham/cs_assignment1/blob/master/assignment1.ipynb\" target=\"_parent\"><img src=\"https://colab.research.google.com/assets/colab-badge.svg\" alt=\"Open In Colab\"/></a>"
      ]
    },
    {
      "cell_type": "code",
      "metadata": {
        "id": "mYKeqjth7vjJ"
      },
      "source": [
        "def lgn_mr(n):\n",
        "  import random\n",
        "  #Check if n is an even number but != 2(prime)\n",
        "  if n % 2 == 0:\n",
        "    if n == 2:\n",
        "      return \"prime\"\n",
        "    else:\n",
        "      return \"composite\"\n",
        "  \n",
        "  #Find n-1 = 2^k * q\n",
        "  #Find k and q\n",
        "  k = 1\n",
        "  q = 0.0\n",
        "  q_test = 0.0\n",
        "  while isinstance(q, float):\n",
        "    q_test = (n-1)/(2**k)\n",
        "    if q_test.is_integer():\n",
        "      q = q_test\n",
        "      k += 1\n",
        "    else:\n",
        "      k -= 1\n",
        "      q = int(q) \n",
        "      print('k=',k,' q=',q,' n-1=',n-1) #,' 2**k: ',2**k,' = ',n-1/2**k)\n",
        "\n",
        "  for i in range(k):\n",
        "    #Choose a ( 1 < a < n-1 )\n",
        "    a = random.randrange(2, n-1)\n",
        "    #Find x = a^q*n\n",
        "    x = pow(a, q, n)\n",
        "    print('x=', x)\n",
        "    #if x == n-1 or x == 1:\n",
        "      #continue\n",
        "    for j in range(k):\n",
        "      x = pow(x, 2, n)\n",
        "      print('x=', x)\n",
        "      if x == 1:\n",
        "        return \"likely prime\"\n",
        "    else:\n",
        "      return \"composite\"\n",
        "  #return \"likely prime\"\n",
        "\n"
      ],
      "execution_count": 66,
      "outputs": []
    },
    {
      "cell_type": "code",
      "metadata": {
        "id": "Oh3gKmVVH1iZ",
        "outputId": "98c8a150-18e7-4ac9-9a5b-6e32e5795d4e",
        "colab": {
          "base_uri": "https://localhost:8080/",
          "height": 103
        }
      },
      "source": [
        "lgn_mr(75797)"
      ],
      "execution_count": 67,
      "outputs": [
        {
          "output_type": "stream",
          "text": [
            "k= 2  q= 18949  n-1= 75796\n",
            "x= 71523\n",
            "x= 75796\n",
            "x= 1\n"
          ],
          "name": "stdout"
        },
        {
          "output_type": "execute_result",
          "data": {
            "application/vnd.google.colaboratory.intrinsic+json": {
              "type": "string"
            },
            "text/plain": [
              "'likely prime'"
            ]
          },
          "metadata": {
            "tags": []
          },
          "execution_count": 67
        }
      ]
    },
    {
      "cell_type": "code",
      "metadata": {
        "id": "d833sTdXZbhz",
        "outputId": "9b3743f5-b433-40c0-d453-039ac9f4eba3",
        "colab": {
          "base_uri": "https://localhost:8080/",
          "height": 34
        }
      },
      "source": [
        "from sympy.ntheory.primetest import mr\n",
        "mr(75795, [2,3])"
      ],
      "execution_count": null,
      "outputs": [
        {
          "output_type": "execute_result",
          "data": {
            "text/plain": [
              "False"
            ]
          },
          "metadata": {
            "tags": []
          },
          "execution_count": 210
        }
      ]
    },
    {
      "cell_type": "code",
      "metadata": {
        "id": "dUtMfiYEamXZ"
      },
      "source": [
        "from sympy.ntheory.modular import crt, solve_congruence\n",
        "from itertools import compress\n",
        "import math\n",
        "\n",
        "def lgn_crt(*args):\n",
        "  \n",
        "  a, b, c, r, s, t = compress(args, (1,1,1,1,1,1))\n",
        "  print(\"Values provided:\",\"a=\",a,\"b=\",b,\"c=\",c,\"r=\",r,\"s=\",s,\"t=\",t)\n",
        "  \n",
        "  if a < 1 or b < 1 or c < 1:\n",
        "    return \"Error: Please enter an array of three positive integers.\"\n",
        "  gcd = math.gcd\n",
        "  if gcd(r,s) != gcd(s,t) or gcd(s,t) != gcd(r,t):\n",
        "    return \"Error: Please enter an array of three pairwise relatively prime positive integers.\"\n",
        "\n",
        "  x_crt = crt([a,b,c],[r,s,t])\n",
        "  print(\"x_crt: \",x_crt)\n",
        "  X = x_crt[0]\n",
        "  print(\"The value of X is: \", X)\n",
        "  print(\"Check:\\na(mod r)=\",a%r,\"\\nb(mod s)=\",b%s,\"\\nc(mod t)=\",c%t)\n",
        "  \n",
        "\n",
        "  #x_con = solve_congruence(*zip((a,b,c),(r,s,t)))\n",
        "  #print(\"x_con: \", x_con)\n",
        "  "
      ],
      "execution_count": 104,
      "outputs": []
    },
    {
      "cell_type": "code",
      "metadata": {
        "id": "alpCWAsofeSu",
        "outputId": "1b251045-c3fd-49f2-e242-16afe1bda723",
        "colab": {
          "base_uri": "https://localhost:8080/",
          "height": 136
        }
      },
      "source": [
        "lgn_crt(1,2,73,15,45,75)"
      ],
      "execution_count": 105,
      "outputs": [
        {
          "output_type": "stream",
          "text": [
            "Values provided: a= 1 b= 2 c= 73 r= 15 s= 45 t= 75\n",
            "x_crt:  (75, 146)\n",
            "The value of X is:  75\n",
            "Check:\n",
            "a(mod r)= 1 \n",
            "b(mod s)= 2 \n",
            "c(mod t)= 73\n"
          ],
          "name": "stdout"
        }
      ]
    }
  ]
}