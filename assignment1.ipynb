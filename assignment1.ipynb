{
  "nbformat": 4,
  "nbformat_minor": 0,
  "metadata": {
    "colab": {
      "name": "assignment1.ipynb",
      "provenance": [],
      "collapsed_sections": [],
      "authorship_tag": "ABX9TyNvfNEO13HpCbFrVMLMtS8z",
      "include_colab_link": true
    },
    "kernelspec": {
      "name": "python3",
      "display_name": "Python 3"
    }
  },
  "cells": [
    {
      "cell_type": "markdown",
      "metadata": {
        "id": "view-in-github",
        "colab_type": "text"
      },
      "source": [
        "<a href=\"https://colab.research.google.com/github/lynnseygraham/cs_assignment1/blob/master/assignment1.ipynb\" target=\"_parent\"><img src=\"https://colab.research.google.com/assets/colab-badge.svg\" alt=\"Open In Colab\"/></a>"
      ]
    },
    {
      "cell_type": "code",
      "metadata": {
        "id": "mYKeqjth7vjJ"
      },
      "source": [
        "def lgn_mr(n):\n",
        "  import random\n",
        "  #Check if n is an even number but != 2(prime)\n",
        "  if n % 2 == 0:\n",
        "    if n == 2:\n",
        "      return \"prime\"\n",
        "    else:\n",
        "      return \"composite\"\n",
        "  \n",
        "  #Find n-1 = 2^k * q\n",
        "  #Find k and q\n",
        "  k = 1\n",
        "  q = 0.0\n",
        "  q_test = 0.0\n",
        "  s = True\n",
        "  while isinstance(q, float):\n",
        "    q_test = (n-1)/(2**k)\n",
        "    if q_test.is_integer():\n",
        "      q = q_test\n",
        "      k += 1\n",
        "    else:\n",
        "      k -= 1\n",
        "      q = int(q)\n",
        "    \n",
        "    print('k: ',k,' q: ',q,' n-1: ',n-1) #,' 2**k: ',2**k,' = ',n-1/2**k)\n",
        "\n",
        "  #Choose a ( 1 < a < n-1 )\n",
        "  a = random.randrange(2, n-1)\n",
        "  print('random: ', a)\n",
        "\n",
        "  #bo = a^m mod n\n",
        "  #x = pow(a, q, n) #TODO: change!\n",
        "  x = pow(2, q, n)\n",
        "  print('x: ', x)\n",
        "\n",
        "  x = pow(x, 2, n)\n",
        "  print('x2: ', x)\n",
        "\n",
        "  if x == n-1:\n",
        "    print(\"likely prime\")\n",
        "  else:\n",
        "    print(\"composite\")\n"
      ],
      "execution_count": 126,
      "outputs": []
    },
    {
      "cell_type": "code",
      "metadata": {
        "id": "Oh3gKmVVH1iZ",
        "outputId": "153dfe8e-8013-4e0f-f3ad-2ccb72a1e188",
        "colab": {
          "base_uri": "https://localhost:8080/",
          "height": 136
        }
      },
      "source": [
        "lgn_mr(53)"
      ],
      "execution_count": 127,
      "outputs": [
        {
          "output_type": "stream",
          "text": [
            "k:  2  q:  26.0  n-1:  52\n",
            "k:  3  q:  13.0  n-1:  52\n",
            "k:  2  q:  13  n-1:  52\n",
            "random:  13\n",
            "x:  30\n",
            "x2:  52\n",
            "likely prime\n"
          ],
          "name": "stdout"
        }
      ]
    }
  ]
}