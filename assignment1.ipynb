{
  "nbformat": 4,
  "nbformat_minor": 0,
  "metadata": {
    "colab": {
      "name": "assignment1.ipynb",
      "provenance": [],
      "collapsed_sections": [],
      "authorship_tag": "ABX9TyPnpTnGb/4WusOd+VlqLM2V",
      "include_colab_link": true
    },
    "kernelspec": {
      "name": "python3",
      "display_name": "Python 3"
    }
  },
  "cells": [
    {
      "cell_type": "markdown",
      "metadata": {
        "id": "view-in-github",
        "colab_type": "text"
      },
      "source": [
        "<a href=\"https://colab.research.google.com/github/lynnseygraham/cs_assignment1/blob/master/assignment1.ipynb\" target=\"_parent\"><img src=\"https://colab.research.google.com/assets/colab-badge.svg\" alt=\"Open In Colab\"/></a>"
      ]
    },
    {
      "cell_type": "code",
      "metadata": {
        "id": "mYKeqjth7vjJ"
      },
      "source": [
        "def lgn_mr(n):\n",
        "  #Check if n is an even number but != 2(prime)\n",
        "  if n % 2 == 0:\n",
        "    if n == 2:\n",
        "      return \"prime\"\n",
        "    else:\n",
        "      return \"composite\"\n",
        "  \n",
        "  #Find n-1 = 2^k * q\n",
        "  #Find k and q\n",
        "\n",
        "  k = 1\n",
        "  q = 0.0\n",
        "  while q.is_integer():\n",
        "    k += 1\n",
        "    print(q.is_integer())\n",
        "    print('k: ',k,' q: ',q,' n-1: ',n-1,' 2**k: ',2**k,' = ',n-1/2**k)\n",
        "    q = (n-1)/(2**k)\n",
        "\n",
        "\n",
        "  #print('k, q', k, q)\n",
        "  #Choose a ( 1 < a < n-1 )\n",
        "  a = random.\n",
        "\n",
        "  #\n",
        "\n"
      ],
      "execution_count": 66,
      "outputs": []
    },
    {
      "cell_type": "code",
      "metadata": {
        "id": "Oh3gKmVVH1iZ",
        "outputId": "58034c41-77c0-4005-d669-d1619db9b0d5",
        "colab": {
          "base_uri": "https://localhost:8080/",
          "height": 85
        }
      },
      "source": [
        "lgn_mr(53)"
      ],
      "execution_count": 67,
      "outputs": [
        {
          "output_type": "stream",
          "text": [
            "True\n",
            "k:  2  q:  0.0  n-1:  52  2**k:  4  =  52.75\n",
            "True\n",
            "k:  3  q:  13.0  n-1:  52  2**k:  8  =  52.875\n"
          ],
          "name": "stdout"
        }
      ]
    },
    {
      "cell_type": "code",
      "metadata": {
        "id": "Yqqm_sg-OEIJ",
        "outputId": "f483956c-d134-44e1-a90a-33f2f61e640e",
        "colab": {
          "base_uri": "https://localhost:8080/",
          "height": 34
        }
      },
      "source": [
        "x = (53-1)/(2**3)\n",
        "print(x)"
      ],
      "execution_count": 33,
      "outputs": [
        {
          "output_type": "stream",
          "text": [
            "6.5\n"
          ],
          "name": "stdout"
        }
      ]
    }
  ]
}