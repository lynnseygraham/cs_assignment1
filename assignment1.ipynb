{
  "nbformat": 4,
  "nbformat_minor": 0,
  "metadata": {
    "colab": {
      "name": "assignment1.ipynb",
      "provenance": [],
      "collapsed_sections": [],
      "authorship_tag": "ABX9TyOIx/XPy26Pq3L8tMZHzXFr",
      "include_colab_link": true
    },
    "kernelspec": {
      "name": "python3",
      "display_name": "Python 3"
    }
  },
  "cells": [
    {
      "cell_type": "markdown",
      "metadata": {
        "id": "view-in-github",
        "colab_type": "text"
      },
      "source": [
        "<a href=\"https://colab.research.google.com/github/lynnseygraham/cs_assignment1/blob/master/assignment1.ipynb\" target=\"_parent\"><img src=\"https://colab.research.google.com/assets/colab-badge.svg\" alt=\"Open In Colab\"/></a>"
      ]
    },
    {
      "cell_type": "code",
      "metadata": {
        "id": "mYKeqjth7vjJ"
      },
      "source": [
        "def lgn_mr(n):\n",
        "  import random\n",
        "  #Check if n is an even number but != 2(prime)\n",
        "  if n % 2 == 0:\n",
        "    if n == 2:\n",
        "      return \"prime\"\n",
        "    else:\n",
        "      return \"composite\"\n",
        "  \n",
        "  #Find n-1 = 2^k * q\n",
        "  #Find k and q\n",
        "  k = 1\n",
        "  q = 0.0\n",
        "  q_test = 0.0\n",
        "  while isinstance(q, float):\n",
        "    q_test = (n-1)/(2**k)\n",
        "    if q_test.is_integer():\n",
        "      q = q_test\n",
        "      k += 1\n",
        "    else:\n",
        "      k -= 1\n",
        "      q = int(q) \n",
        "      print('k=',k,' q=',q,' n-1=',n-1) #,' 2**k: ',2**k,' = ',n-1/2**k)\n",
        "\n",
        "  for i in range(k):\n",
        "    #Choose a ( 1 < a < n-1 )\n",
        "    a = random.randrange(2, n-1)\n",
        "    #Find x = a^q*n\n",
        "    x = pow(a, q, n)\n",
        "    print('x=', x)\n",
        "    #if x == n-1 or x == 1:\n",
        "      #continue\n",
        "    for j in range(k):\n",
        "      x = pow(x, 2, n)\n",
        "      print('x=', x)\n",
        "      if x == 1:\n",
        "        return \"likely prime\"\n",
        "    else:\n",
        "      return \"composite\"\n",
        "  #return \"likely prime\"\n",
        "\n"
      ],
      "execution_count": 125,
      "outputs": []
    },
    {
      "cell_type": "code",
      "metadata": {
        "id": "Oh3gKmVVH1iZ",
        "outputId": "fa4618b6-75ec-4592-a1a5-cb00796a88bf",
        "colab": {
          "base_uri": "https://localhost:8080/",
          "height": 86
        }
      },
      "source": [
        "lgn_mr(75797)"
      ],
      "execution_count": 126,
      "outputs": [
        {
          "output_type": "stream",
          "text": [
            "k= 2  q= 18949  n-1= 75796\n",
            "x= 75796\n",
            "x= 1\n"
          ],
          "name": "stdout"
        },
        {
          "output_type": "execute_result",
          "data": {
            "application/vnd.google.colaboratory.intrinsic+json": {
              "type": "string"
            },
            "text/plain": [
              "'likely prime'"
            ]
          },
          "metadata": {
            "tags": []
          },
          "execution_count": 126
        }
      ]
    },
    {
      "cell_type": "code",
      "metadata": {
        "id": "d833sTdXZbhz",
        "outputId": "b0eb16e3-c158-4d19-e209-69b559381a2d",
        "colab": {
          "base_uri": "https://localhost:8080/",
          "height": 34
        }
      },
      "source": [
        "from sympy.ntheory.primetest import mr\n",
        "mr(75795, [2,3])"
      ],
      "execution_count": 127,
      "outputs": [
        {
          "output_type": "execute_result",
          "data": {
            "text/plain": [
              "False"
            ]
          },
          "metadata": {
            "tags": []
          },
          "execution_count": 127
        }
      ]
    },
    {
      "cell_type": "code",
      "metadata": {
        "id": "raMRAqbRQPVd"
      },
      "source": [
        "def prep_args():\n",
        "  "
      ],
      "execution_count": null,
      "outputs": []
    },
    {
      "cell_type": "code",
      "metadata": {
        "id": "dUtMfiYEamXZ"
      },
      "source": [
        "from sympy.ntheory.modular import solve_congruence\n",
        "from itertools import compress\n",
        "import math\n",
        "\n",
        "def lgn_crt(*args):\n",
        "  #Assign array of arguments provided to appropriate variables\n",
        "  a, b, c, r, s, t = compress(args, (1,1,1,1,1,1))\n",
        "  print(\"Residuals provided: a=\",a,\"b=\",b,\"c=\",c,\"\\nCoprime moduli provided: r=\",r,\"s=\",s,\"t=\",t,\"\\n\")\n",
        "  \n",
        "  #Ensure a, b, and c are positive\n",
        "  if a < 1 or b < 1 or c < 1:\n",
        "    return \"Error: Please enter an array of three positive integers.\"\n",
        "\n",
        "  #Ensure r, s, and t are coprime\n",
        "  gcd = math.gcd\n",
        "  if gcd(r,s) != 1 or gcd(s,t) != 1 or gcd(r,t) != 1:\n",
        "    return \"Error: Please enter an array of three pairwise relatively prime positive integers.\"\n",
        "\n",
        "  #Use Sympy's solve_congruence() function to find X\n",
        "  x_crt = solve_congruence(*zip([3,1,6],[5,7,8]))\n",
        "  X = x_crt[0]\n",
        "  print(\"The value of X is: \", X)\n",
        " \n",
        "  "
      ],
      "execution_count": 142,
      "outputs": []
    },
    {
      "cell_type": "code",
      "metadata": {
        "id": "alpCWAsofeSu",
        "outputId": "74d30a3d-6755-4eef-aeca-f831705fe9ac",
        "colab": {
          "base_uri": "https://localhost:8080/",
          "height": 85
        }
      },
      "source": [
        "lgn_crt(3,1,6,5,7,8)"
      ],
      "execution_count": 143,
      "outputs": [
        {
          "output_type": "stream",
          "text": [
            "Residuals provided: a= 3 b= 1 c= 6 \n",
            "Coprime moduli provided: r= 5 s= 7 t= 8 \n",
            "\n",
            "The value of X is:  78\n"
          ],
          "name": "stdout"
        }
      ]
    }
  ]
}